{
  "nbformat": 4,
  "nbformat_minor": 0,
  "metadata": {
    "colab": {
      "name": "SymbolicAI",
      "provenance": [],
      "authorship_tag": "ABX9TyPFd+owPRPD7QkVvnnjZD5W",
      "include_colab_link": true
    },
    "kernelspec": {
      "name": "python3",
      "display_name": "Python 3"
    }
  },
  "cells": [
    {
      "cell_type": "markdown",
      "metadata": {
        "id": "view-in-github",
        "colab_type": "text"
      },
      "source": [
        "<a href=\"https://colab.research.google.com/github/ceylonai/youtube_notes/blob/master/Day3/SymbolicAI.ipynb\" target=\"_parent\"><img src=\"https://colab.research.google.com/assets/colab-badge.svg\" alt=\"Open In Colab\"/></a>"
      ]
    },
    {
      "cell_type": "markdown",
      "metadata": {
        "id": "CO1Q73etlLdU",
        "colab_type": "text"
      },
      "source": [
        "#Symbolic artificial intelligence \n",
        "*classical AI, rule-based AI, good old-fashioned AI*\n",
        "\n",
        "\n",
        "## **Meaning, Definition, Explanation**\n",
        "\n",
        "Symbolic artificial intelligence is the term for the collection of all methods in artificial intelligence research that are based on high-level \"symbolic\" (human-readable) representations of problems, logic and search. Symbolic \n",
        "[link text](https://)\n",
        "\n",
        "> Indented block\n",
        "\n",
        "\n",
        "AI was the dominant paradigm of AI research from the mid-1950s until the late 1980s.\n",
        "\n",
        "\n",
        "## Components\n",
        "\n",
        "1. Human readable symbolics\n",
        "2. Logic\n",
        "3. Search\n",
        "\n",
        "***In machine learning, the algorithm learns rules as it establishes correlations between inputs and outputs. In symbolic reasoning, the rules are created through human intervention and then hard-coded into a static program.***\n",
        "\n",
        "#What is Expert system\n",
        "\n",
        "A piece of software which use experts knowloage to offer advice or make decisions in such as medical diagnosis\n",
        "\n",
        "## Simply we are going to intergrate domain experts expirence into our program\n"
      ]
    },
    {
      "cell_type": "markdown",
      "metadata": {
        "id": "pyEKoP7svTD1",
        "colab_type": "text"
      },
      "source": [
        "![image.png](data:image/png;base64,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)"
      ]
    },
    {
      "cell_type": "markdown",
      "metadata": {
        "id": "ZCZdoxCFvpDA",
        "colab_type": "text"
      },
      "source": [
        "#Important characteristic of Expert System\n",
        "\n",
        "\n",
        "\n",
        "*   The Highest Level of Expertise\n",
        "*   Right on Time Reaction\n",
        "*   Good Reliability\n",
        "*   Flexible\n",
        "*   Effective Mechanism\n",
        "*   Capable of handling challenging decision & problems\n",
        "\n",
        "\n",
        "\n",
        "\n"
      ]
    },
    {
      "cell_type": "markdown",
      "metadata": {
        "id": "IzdT0rKCwZlg",
        "colab_type": "text"
      },
      "source": [
        "# Applications of expert systems\n",
        "\n",
        "*   Information management\n",
        "*   Hospitals and medical facilities\n",
        "*   Loan analysis\n",
        "*   Planning and scheduling\n",
        "*   Help desks management\n",
        "\n"
      ]
    },
    {
      "cell_type": "markdown",
      "metadata": {
        "id": "p_zJwlCLxk2m",
        "colab_type": "text"
      },
      "source": [
        "## How to develop expert systems\n",
        "\n",
        "1. CLIPS (Since 1985)\n",
        "2. Pyknow\n",
        "3. experta"
      ]
    },
    {
      "cell_type": "code",
      "metadata": {
        "id": "cYFR-GFbVoVa",
        "colab_type": "code",
        "colab": {
          "base_uri": "https://localhost:8080/",
          "height": 72
        },
        "outputId": "2ec2d500-8ebd-4db7-e9ea-3d12d91fccf8"
      },
      "source": [
        "!pip install experta"
      ],
      "execution_count": null,
      "outputs": [
        {
          "output_type": "stream",
          "text": [
            "Requirement already satisfied: experta in /usr/local/lib/python3.6/dist-packages (1.9.4)\n",
            "Requirement already satisfied: frozendict==1.2 in /usr/local/lib/python3.6/dist-packages (from experta) (1.2)\n",
            "Requirement already satisfied: schema==0.6.7 in /usr/local/lib/python3.6/dist-packages (from experta) (0.6.7)\n"
          ],
          "name": "stdout"
        }
      ]
    },
    {
      "cell_type": "code",
      "metadata": {
        "id": "a5RXTpRWp7V5",
        "colab_type": "code",
        "colab": {}
      },
      "source": [
        "from experta import Fact,KnowledgeEngine,Rule,AS\n",
        "\n",
        "class Light(Fact):\n",
        "  pass\n",
        "\n",
        "class ColorLightResponseEngine(KnowledgeEngine):\n",
        "\n",
        "  @Rule(Light(color=\"red\"))\n",
        "  def red(self):\n",
        "    print(\"You can not GO now\")\n",
        "  \n",
        "  @Rule(Light(color=\"green\"))\n",
        "  def green(self):\n",
        "    print(\"You can GO now\")\n",
        "\n",
        "  @Rule(AS.light << Light(color=\"yellow\")|Light(color=\"blinking-yellow\"))\n",
        "  def yellow(self,light):\n",
        "    print(f\"You can GO But be carrefull becouse light is {light['color']}\")\n"
      ],
      "execution_count": null,
      "outputs": []
    },
    {
      "cell_type": "code",
      "metadata": {
        "id": "lmGSAd8mrNB4",
        "colab_type": "code",
        "colab": {}
      },
      "source": [
        "engine = ColorLightResponseEngine()"
      ],
      "execution_count": null,
      "outputs": []
    },
    {
      "cell_type": "code",
      "metadata": {
        "id": "EyuhTTY3rUAd",
        "colab_type": "code",
        "colab": {
          "base_uri": "https://localhost:8080/",
          "height": 54
        },
        "outputId": "ad072ff3-f237-44d7-9b2f-dd8051a1a322"
      },
      "source": [
        "engine.reset()\n",
        "from random import choice\n",
        "color_light_status = Light(color=choice([\"red\",\"green\",\"yellow\",\"blinking-yellow\"]))\n",
        "print(\"Color light is \",color_light_status['color'])\n",
        "engine.declare(color_light_status)\n",
        "engine.run()"
      ],
      "execution_count": null,
      "outputs": [
        {
          "output_type": "stream",
          "text": [
            "Color light is  green\n",
            "You can GO now\n"
          ],
          "name": "stdout"
        }
      ]
    },
    {
      "cell_type": "code",
      "metadata": {
        "id": "zPvsjnbVrdyG",
        "colab_type": "code",
        "colab": {}
      },
      "source": [
        "from functools import partial, reduce\n",
        "from itertools import takewhile\n",
        "import operator as op\n",
        "\n",
        "from experta import *\n",
        "\n",
        "\n",
        "class Number(Fact):\n",
        "    pass\n",
        "\n",
        "\n",
        "class Letter(Fact):\n",
        "    pass\n",
        "\n",
        "\n",
        "class Combination(Fact):\n",
        "    pass\n",
        "\n",
        "until_none = partial(takewhile, lambda x: x is not None)\n",
        "\n",
        "\n",
        "def check_combination(d=None, t=None, l=None, r=None, a=None,\n",
        "                      e=None, n=None, b=None, o=None, g=None):\n",
        "    \"\"\"Check a partial solution.\"\"\"\n",
        "\n",
        "    left_1 = list(until_none(reversed([g, e, r, a, l, d])))\n",
        "    left_2 = list(until_none(reversed([d, o, n, a, l, d])))\n",
        "    right = list(until_none(reversed([r, o, b, e, r, t])))\n",
        "\n",
        "    a = sum((l[0] * 10 ** e) + (l[1] * 10 ** e)\n",
        "            for e, l in enumerate(zip(left_1, left_2)))\n",
        "    b = sum((l * 10 ** e) for e, l in enumerate(right))\n",
        "\n",
        "    if len(left_1) < 6:\n",
        "        a = a % 10**len(right)\n",
        "\n",
        "    return a == b\n",
        "\n",
        "\n",
        "def C(name, neq=\"\"):\n",
        "    \"\"\"\n",
        "    Ex: name=\"c\", neq=\"tar\" => W(\"c\") & ~W(\"t\") & ~W(\"a\") & ~W(\"r\")\n",
        "\n",
        "    \"\"\"\n",
        "    if neq:\n",
        "        return W(name) & reduce(op.and_, [~W(c) for c in neq])\n",
        "    else:\n",
        "        return W(name)\n",
        "\n",
        "\n",
        "class WordGame(KnowledgeEngine):\n",
        "    @Rule()\n",
        "    def startup(self):\n",
        "        print(\"The problem is\")\n",
        "        print(\"    GERALD\")\n",
        "        print(\"  + DONALD\")\n",
        "        print(\"    ------\")\n",
        "        print(\"  = ROBERT\")\n",
        "        print()\n",
        "\n",
        "        for n in range(10):\n",
        "            self.declare(Number(n))\n",
        "\n",
        "        for l in set(\"GERALD\" + \"DONALD\" + \"ROBERT\"):\n",
        "            self.declare(Letter(l))\n",
        "\n",
        "    @Rule(Number(MATCH.n),\n",
        "          Letter(MATCH.l))\n",
        "    def generate_combinations(self, n, l):\n",
        "        self.declare(Combination(l, n))\n",
        "\n",
        "    @Rule(Combination(\"D\", C(\"d\")),\n",
        "          Combination(\"T\", C(\"t\", neq=\"d\")),\n",
        "          TEST(check_combination),\n",
        "          Combination(\"L\", C(\"l\", neq=\"dt\")),\n",
        "          Combination(\"R\", C(\"r\", neq=\"dtl\")),\n",
        "          TEST(check_combination),\n",
        "          Combination(\"A\", C(\"a\", neq=\"dtlr\")),\n",
        "          Combination(\"E\", C(\"e\", neq=\"dtlra\")),\n",
        "          TEST(check_combination),\n",
        "          Combination(\"N\", C(\"n\", neq=\"dtlrae\")),\n",
        "          Combination(\"B\", C(\"b\", neq=\"dtlraen\")),\n",
        "          TEST(check_combination),\n",
        "          Combination(\"O\", C(\"o\", neq=\"dtlraenb\")),\n",
        "          Combination(\"G\", C(\"g\", neq=\"dtlraenbo\")),\n",
        "          TEST(check_combination))\n",
        "    def find_solution(self, g, e, r, a, l, d, o, n, b, t):\n",
        "        print(\"A solution is:\")\n",
        "        print(\"  G =\", g)\n",
        "        print(\"  E =\", e)\n",
        "        print(\"  R =\", r)\n",
        "        print(\"  A =\", a)\n",
        "        print(\"  L =\", l)\n",
        "        print(\"  D =\", d)\n",
        "        print(\"  O =\", o)\n",
        "        print(\"  N =\", n)\n",
        "        print(\"  B =\", b)\n",
        "        print(\"  T =\", t)\n",
        "        print()\n",
        "        print(\"    \", g, e, r, a, l, d)\n",
        "        print(\"  + \", d, o, n, a, l, d)\n",
        "        print(\"    \", \"------\")\n",
        "        print(\"  = \", r, o, b, e, r, t)\n",
        "        print()"
      ],
      "execution_count": null,
      "outputs": []
    },
    {
      "cell_type": "code",
      "metadata": {
        "id": "K4qQZrxrtKEf",
        "colab_type": "code",
        "colab": {
          "base_uri": "https://localhost:8080/",
          "height": 439
        },
        "outputId": "73e4d7f5-8f31-4906-e6fb-5dada94a4480"
      },
      "source": [
        "\n",
        "\n",
        "wg = WordGame()\n",
        "wg.reset()\n",
        "wg.run()\n",
        "\n"
      ],
      "execution_count": null,
      "outputs": [
        {
          "output_type": "stream",
          "text": [
            "The problem is\n",
            "    GERALD\n",
            "  + DONALD\n",
            "    ------\n",
            "  = ROBERT\n",
            "\n",
            "A solution is:\n",
            "  G = 1\n",
            "  E = 9\n",
            "  R = 7\n",
            "  A = 4\n",
            "  L = 8\n",
            "  D = 5\n",
            "  O = 2\n",
            "  N = 6\n",
            "  B = 3\n",
            "  T = 0\n",
            "\n",
            "     1 9 7 4 8 5\n",
            "  +  5 2 6 4 8 5\n",
            "     ------\n",
            "  =  7 2 3 9 7 0\n",
            "\n"
          ],
          "name": "stdout"
        }
      ]
    },
    {
      "cell_type": "code",
      "metadata": {
        "id": "cFJKTlOVtL-L",
        "colab_type": "code",
        "colab": {}
      },
      "source": [
        ""
      ],
      "execution_count": null,
      "outputs": []
    }
  ]
}